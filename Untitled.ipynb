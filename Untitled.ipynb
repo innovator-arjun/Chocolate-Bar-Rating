{
 "cells": [
  {
   "cell_type": "code",
   "execution_count": 2,
   "metadata": {},
   "outputs": [],
   "source": [
    "import pandas as pd"
   ]
  },
  {
   "cell_type": "code",
   "execution_count": 3,
   "metadata": {},
   "outputs": [],
   "source": [
    "dataset=pd.read_csv('flavors_of_cacao.csv')"
   ]
  },
  {
   "cell_type": "code",
   "execution_count": 4,
   "metadata": {},
   "outputs": [
    {
     "data": {
      "text/html": [
       "<div>\n",
       "<style scoped>\n",
       "    .dataframe tbody tr th:only-of-type {\n",
       "        vertical-align: middle;\n",
       "    }\n",
       "\n",
       "    .dataframe tbody tr th {\n",
       "        vertical-align: top;\n",
       "    }\n",
       "\n",
       "    .dataframe thead th {\n",
       "        text-align: right;\n",
       "    }\n",
       "</style>\n",
       "<table border=\"1\" class=\"dataframe\">\n",
       "  <thead>\n",
       "    <tr style=\"text-align: right;\">\n",
       "      <th></th>\n",
       "      <th>Company \n",
       "(Maker-if known)</th>\n",
       "      <th>Specific Bean Origin\n",
       "or Bar Name</th>\n",
       "      <th>REF</th>\n",
       "      <th>Review\n",
       "Date</th>\n",
       "      <th>Cocoa\n",
       "Percent</th>\n",
       "      <th>Company\n",
       "Location</th>\n",
       "      <th>Rating</th>\n",
       "      <th>Bean\n",
       "Type</th>\n",
       "      <th>Broad Bean\n",
       "Origin</th>\n",
       "    </tr>\n",
       "  </thead>\n",
       "  <tbody>\n",
       "    <tr>\n",
       "      <th>0</th>\n",
       "      <td>A. Morin</td>\n",
       "      <td>Agua Grande</td>\n",
       "      <td>1876</td>\n",
       "      <td>2016</td>\n",
       "      <td>63%</td>\n",
       "      <td>France</td>\n",
       "      <td>3.75</td>\n",
       "      <td></td>\n",
       "      <td>Sao Tome</td>\n",
       "    </tr>\n",
       "    <tr>\n",
       "      <th>1</th>\n",
       "      <td>A. Morin</td>\n",
       "      <td>Kpime</td>\n",
       "      <td>1676</td>\n",
       "      <td>2015</td>\n",
       "      <td>70%</td>\n",
       "      <td>France</td>\n",
       "      <td>2.75</td>\n",
       "      <td></td>\n",
       "      <td>Togo</td>\n",
       "    </tr>\n",
       "    <tr>\n",
       "      <th>2</th>\n",
       "      <td>A. Morin</td>\n",
       "      <td>Atsane</td>\n",
       "      <td>1676</td>\n",
       "      <td>2015</td>\n",
       "      <td>70%</td>\n",
       "      <td>France</td>\n",
       "      <td>3.00</td>\n",
       "      <td></td>\n",
       "      <td>Togo</td>\n",
       "    </tr>\n",
       "    <tr>\n",
       "      <th>3</th>\n",
       "      <td>A. Morin</td>\n",
       "      <td>Akata</td>\n",
       "      <td>1680</td>\n",
       "      <td>2015</td>\n",
       "      <td>70%</td>\n",
       "      <td>France</td>\n",
       "      <td>3.50</td>\n",
       "      <td></td>\n",
       "      <td>Togo</td>\n",
       "    </tr>\n",
       "    <tr>\n",
       "      <th>4</th>\n",
       "      <td>A. Morin</td>\n",
       "      <td>Quilla</td>\n",
       "      <td>1704</td>\n",
       "      <td>2015</td>\n",
       "      <td>70%</td>\n",
       "      <td>France</td>\n",
       "      <td>3.50</td>\n",
       "      <td></td>\n",
       "      <td>Peru</td>\n",
       "    </tr>\n",
       "  </tbody>\n",
       "</table>\n",
       "</div>"
      ],
      "text/plain": [
       "  Company \\n(Maker-if known) Specific Bean Origin\\nor Bar Name   REF  \\\n",
       "0                   A. Morin                       Agua Grande  1876   \n",
       "1                   A. Morin                             Kpime  1676   \n",
       "2                   A. Morin                            Atsane  1676   \n",
       "3                   A. Morin                             Akata  1680   \n",
       "4                   A. Morin                            Quilla  1704   \n",
       "\n",
       "   Review\\nDate Cocoa\\nPercent Company\\nLocation  Rating Bean\\nType  \\\n",
       "0          2016            63%            France    3.75              \n",
       "1          2015            70%            France    2.75              \n",
       "2          2015            70%            France    3.00              \n",
       "3          2015            70%            France    3.50              \n",
       "4          2015            70%            France    3.50              \n",
       "\n",
       "  Broad Bean\\nOrigin  \n",
       "0           Sao Tome  \n",
       "1               Togo  \n",
       "2               Togo  \n",
       "3               Togo  \n",
       "4               Peru  "
      ]
     },
     "execution_count": 4,
     "metadata": {},
     "output_type": "execute_result"
    }
   ],
   "source": [
    "dataset.head()"
   ]
  },
  {
   "cell_type": "code",
   "execution_count": 5,
   "metadata": {},
   "outputs": [
    {
     "data": {
      "text/plain": [
       "(1795, 9)"
      ]
     },
     "execution_count": 5,
     "metadata": {},
     "output_type": "execute_result"
    }
   ],
   "source": [
    "dataset.shape"
   ]
  },
  {
   "cell_type": "code",
   "execution_count": 6,
   "metadata": {},
   "outputs": [
    {
     "data": {
      "text/plain": [
       "Company \\n(Maker-if known)           0\n",
       "Specific Bean Origin\\nor Bar Name    0\n",
       "REF                                  0\n",
       "Review\\nDate                         0\n",
       "Cocoa\\nPercent                       0\n",
       "Company\\nLocation                    0\n",
       "Rating                               0\n",
       "Bean\\nType                           1\n",
       "Broad Bean\\nOrigin                   1\n",
       "dtype: int64"
      ]
     },
     "execution_count": 6,
     "metadata": {},
     "output_type": "execute_result"
    }
   ],
   "source": [
    "dataset.isnull().sum()\n"
   ]
  },
  {
   "cell_type": "code",
   "execution_count": 7,
   "metadata": {},
   "outputs": [],
   "source": [
    "dataset = dataset.rename(columns={'REF':'reference','Review\\nDate ':'review_date'})"
   ]
  },
  {
   "cell_type": "code",
   "execution_count": 8,
   "metadata": {},
   "outputs": [
    {
     "data": {
      "text/html": [
       "<div>\n",
       "<style scoped>\n",
       "    .dataframe tbody tr th:only-of-type {\n",
       "        vertical-align: middle;\n",
       "    }\n",
       "\n",
       "    .dataframe tbody tr th {\n",
       "        vertical-align: top;\n",
       "    }\n",
       "\n",
       "    .dataframe thead th {\n",
       "        text-align: right;\n",
       "    }\n",
       "</style>\n",
       "<table border=\"1\" class=\"dataframe\">\n",
       "  <thead>\n",
       "    <tr style=\"text-align: right;\">\n",
       "      <th></th>\n",
       "      <th>Company \n",
       "(Maker-if known)</th>\n",
       "      <th>Specific Bean Origin\n",
       "or Bar Name</th>\n",
       "      <th>reference</th>\n",
       "      <th>Review\n",
       "Date</th>\n",
       "      <th>Cocoa\n",
       "Percent</th>\n",
       "      <th>Company\n",
       "Location</th>\n",
       "      <th>Rating</th>\n",
       "      <th>Bean\n",
       "Type</th>\n",
       "      <th>Broad Bean\n",
       "Origin</th>\n",
       "    </tr>\n",
       "  </thead>\n",
       "  <tbody>\n",
       "    <tr>\n",
       "      <th>0</th>\n",
       "      <td>A. Morin</td>\n",
       "      <td>Agua Grande</td>\n",
       "      <td>1876</td>\n",
       "      <td>2016</td>\n",
       "      <td>63%</td>\n",
       "      <td>France</td>\n",
       "      <td>3.75</td>\n",
       "      <td></td>\n",
       "      <td>Sao Tome</td>\n",
       "    </tr>\n",
       "    <tr>\n",
       "      <th>1</th>\n",
       "      <td>A. Morin</td>\n",
       "      <td>Kpime</td>\n",
       "      <td>1676</td>\n",
       "      <td>2015</td>\n",
       "      <td>70%</td>\n",
       "      <td>France</td>\n",
       "      <td>2.75</td>\n",
       "      <td></td>\n",
       "      <td>Togo</td>\n",
       "    </tr>\n",
       "    <tr>\n",
       "      <th>2</th>\n",
       "      <td>A. Morin</td>\n",
       "      <td>Atsane</td>\n",
       "      <td>1676</td>\n",
       "      <td>2015</td>\n",
       "      <td>70%</td>\n",
       "      <td>France</td>\n",
       "      <td>3.00</td>\n",
       "      <td></td>\n",
       "      <td>Togo</td>\n",
       "    </tr>\n",
       "    <tr>\n",
       "      <th>3</th>\n",
       "      <td>A. Morin</td>\n",
       "      <td>Akata</td>\n",
       "      <td>1680</td>\n",
       "      <td>2015</td>\n",
       "      <td>70%</td>\n",
       "      <td>France</td>\n",
       "      <td>3.50</td>\n",
       "      <td></td>\n",
       "      <td>Togo</td>\n",
       "    </tr>\n",
       "    <tr>\n",
       "      <th>4</th>\n",
       "      <td>A. Morin</td>\n",
       "      <td>Quilla</td>\n",
       "      <td>1704</td>\n",
       "      <td>2015</td>\n",
       "      <td>70%</td>\n",
       "      <td>France</td>\n",
       "      <td>3.50</td>\n",
       "      <td></td>\n",
       "      <td>Peru</td>\n",
       "    </tr>\n",
       "  </tbody>\n",
       "</table>\n",
       "</div>"
      ],
      "text/plain": [
       "  Company \\n(Maker-if known) Specific Bean Origin\\nor Bar Name  reference  \\\n",
       "0                   A. Morin                       Agua Grande       1876   \n",
       "1                   A. Morin                             Kpime       1676   \n",
       "2                   A. Morin                            Atsane       1676   \n",
       "3                   A. Morin                             Akata       1680   \n",
       "4                   A. Morin                            Quilla       1704   \n",
       "\n",
       "   Review\\nDate Cocoa\\nPercent Company\\nLocation  Rating Bean\\nType  \\\n",
       "0          2016            63%            France    3.75              \n",
       "1          2015            70%            France    2.75              \n",
       "2          2015            70%            France    3.00              \n",
       "3          2015            70%            France    3.50              \n",
       "4          2015            70%            France    3.50              \n",
       "\n",
       "  Broad Bean\\nOrigin  \n",
       "0           Sao Tome  \n",
       "1               Togo  \n",
       "2               Togo  \n",
       "3               Togo  \n",
       "4               Peru  "
      ]
     },
     "execution_count": 8,
     "metadata": {},
     "output_type": "execute_result"
    }
   ],
   "source": [
    "dataset.head()"
   ]
  },
  {
   "cell_type": "code",
   "execution_count": 9,
   "metadata": {},
   "outputs": [],
   "source": [
    "dataset.columns=['company','bar_name','reference','review_date','cocoa_percent','company_location','rating','bean_type','brean_origin']"
   ]
  },
  {
   "cell_type": "code",
   "execution_count": 10,
   "metadata": {},
   "outputs": [
    {
     "data": {
      "text/html": [
       "<div>\n",
       "<style scoped>\n",
       "    .dataframe tbody tr th:only-of-type {\n",
       "        vertical-align: middle;\n",
       "    }\n",
       "\n",
       "    .dataframe tbody tr th {\n",
       "        vertical-align: top;\n",
       "    }\n",
       "\n",
       "    .dataframe thead th {\n",
       "        text-align: right;\n",
       "    }\n",
       "</style>\n",
       "<table border=\"1\" class=\"dataframe\">\n",
       "  <thead>\n",
       "    <tr style=\"text-align: right;\">\n",
       "      <th></th>\n",
       "      <th>company</th>\n",
       "      <th>bar_name</th>\n",
       "      <th>reference</th>\n",
       "      <th>review_date</th>\n",
       "      <th>cocoa_percent</th>\n",
       "      <th>company_location</th>\n",
       "      <th>rating</th>\n",
       "      <th>bean_type</th>\n",
       "      <th>brean_origin</th>\n",
       "    </tr>\n",
       "  </thead>\n",
       "  <tbody>\n",
       "    <tr>\n",
       "      <th>0</th>\n",
       "      <td>A. Morin</td>\n",
       "      <td>Agua Grande</td>\n",
       "      <td>1876</td>\n",
       "      <td>2016</td>\n",
       "      <td>63%</td>\n",
       "      <td>France</td>\n",
       "      <td>3.75</td>\n",
       "      <td></td>\n",
       "      <td>Sao Tome</td>\n",
       "    </tr>\n",
       "    <tr>\n",
       "      <th>1</th>\n",
       "      <td>A. Morin</td>\n",
       "      <td>Kpime</td>\n",
       "      <td>1676</td>\n",
       "      <td>2015</td>\n",
       "      <td>70%</td>\n",
       "      <td>France</td>\n",
       "      <td>2.75</td>\n",
       "      <td></td>\n",
       "      <td>Togo</td>\n",
       "    </tr>\n",
       "    <tr>\n",
       "      <th>2</th>\n",
       "      <td>A. Morin</td>\n",
       "      <td>Atsane</td>\n",
       "      <td>1676</td>\n",
       "      <td>2015</td>\n",
       "      <td>70%</td>\n",
       "      <td>France</td>\n",
       "      <td>3.00</td>\n",
       "      <td></td>\n",
       "      <td>Togo</td>\n",
       "    </tr>\n",
       "    <tr>\n",
       "      <th>3</th>\n",
       "      <td>A. Morin</td>\n",
       "      <td>Akata</td>\n",
       "      <td>1680</td>\n",
       "      <td>2015</td>\n",
       "      <td>70%</td>\n",
       "      <td>France</td>\n",
       "      <td>3.50</td>\n",
       "      <td></td>\n",
       "      <td>Togo</td>\n",
       "    </tr>\n",
       "    <tr>\n",
       "      <th>4</th>\n",
       "      <td>A. Morin</td>\n",
       "      <td>Quilla</td>\n",
       "      <td>1704</td>\n",
       "      <td>2015</td>\n",
       "      <td>70%</td>\n",
       "      <td>France</td>\n",
       "      <td>3.50</td>\n",
       "      <td></td>\n",
       "      <td>Peru</td>\n",
       "    </tr>\n",
       "  </tbody>\n",
       "</table>\n",
       "</div>"
      ],
      "text/plain": [
       "    company     bar_name  reference  review_date cocoa_percent  \\\n",
       "0  A. Morin  Agua Grande       1876         2016           63%   \n",
       "1  A. Morin        Kpime       1676         2015           70%   \n",
       "2  A. Morin       Atsane       1676         2015           70%   \n",
       "3  A. Morin        Akata       1680         2015           70%   \n",
       "4  A. Morin       Quilla       1704         2015           70%   \n",
       "\n",
       "  company_location  rating bean_type brean_origin  \n",
       "0           France    3.75               Sao Tome  \n",
       "1           France    2.75                   Togo  \n",
       "2           France    3.00                   Togo  \n",
       "3           France    3.50                   Togo  \n",
       "4           France    3.50                   Peru  "
      ]
     },
     "execution_count": 10,
     "metadata": {},
     "output_type": "execute_result"
    }
   ],
   "source": [
    "dataset.head()"
   ]
  },
  {
   "cell_type": "code",
   "execution_count": 11,
   "metadata": {},
   "outputs": [
    {
     "data": {
      "text/plain": [
       "array(['A. Morin', 'Acalli', 'Adi', 'Aequare (Gianduja)', 'Ah Cacao',\n",
       "       \"Akesson's (Pralus)\", 'Alain Ducasse', 'Alexandre',\n",
       "       'Altus aka Cao Artisan', 'Amano', 'Amatller (Simon Coll)',\n",
       "       'Amazona', 'Ambrosia', 'Amedei', 'AMMA', 'Anahata', 'Animas',\n",
       "       'Ara', 'Arete', 'Artisan du Chocolat',\n",
       "       'Artisan du Chocolat (Casa Luker)', 'Askinosie', 'Bahen & Co.',\n",
       "       'Bakau', 'Bar Au Chocolat', \"Baravelli's\", 'Batch', 'Beau Cacao',\n",
       "       'Beehive', 'Belcolade', 'Bellflower', 'Belyzium', 'Benoit Nihant',\n",
       "       'Bernachon', 'Beschle (Felchlin)', 'Bisou', 'Bittersweet Origins',\n",
       "       'Black Mountain', 'Black River (A. Morin)', 'Blanxart',\n",
       "       'Blue Bandana', 'Bonnat', 'Bouga Cacao (Tulicorp)', 'Bowler Man',\n",
       "       \"Brasstown aka It's Chocolate\", 'Brazen', 'Breeze Mill', 'Bright',\n",
       "       'Britarev', 'Bronx Grrl Chocolate', 'Burnt Fork Bend',\n",
       "       'Cacao Arabuco', 'Cacao Atlanta', 'Cacao Barry', 'Cacao de Origen',\n",
       "       'Cacao de Origin', 'Cacao Hunters', 'Cacao Market', 'Cacao Prieto',\n",
       "       'Cacao Sampaka', 'Cacao Store',\n",
       "       'Cacaosuyo (Theobroma Inversiones)', 'Cacaoyere (Ecuatoriana)',\n",
       "       'Callebaut', 'C-Amaro', 'Cao', 'Caoni (Tulicorp)',\n",
       "       'Captain Pembleton', 'Caribeans', 'Carlotta Chocolat',\n",
       "       'Castronovo', 'Cello', 'Cemoi', 'Chaleur B', 'Charm School',\n",
       "       'Chchukululu (Tulicorp)', 'Chequessett', 'Chloe Chocolat',\n",
       "       'Chocablog', 'Choco Del Sol', 'Choco Dong', 'Chocolarder',\n",
       "       \"Chocola'te\", 'Chocolate Alchemist-Philly', 'Chocolate Con Amor',\n",
       "       'Chocolate Conspiracy', 'Chocolate Makers', 'Chocolate Tree, The',\n",
       "       'Chocolats Privilege', 'ChocoReko', 'Chocosol', 'Chocovic',\n",
       "       'Chocovivo', 'Choklat', 'Chokolat Elot (Girard)', 'Choocsol',\n",
       "       'Christopher Morel (Felchlin)', 'Chuao Chocolatier',\n",
       "       'Chuao Chocolatier (Pralus)', 'Claudio Corallo', 'Cloudforest',\n",
       "       'Coleman & Davis', 'Compania de Chocolate (Salgado)', 'Condor',\n",
       "       'Confluence', 'Coppeneur', \"Cote d' Or (Kraft)\", 'Cravve', 'Creo',\n",
       "       'Daintree', 'Dalloway', 'Damson', 'Dandelion', 'Danta', 'DAR',\n",
       "       'Dark Forest', 'Davis', 'De Mendes', 'De Villiers',\n",
       "       'Dean and Deluca (Belcolade)',\n",
       "       'Debauve & Gallais (Michel Cluizel)', 'Desbarres', 'DeVries',\n",
       "       'Dick Taylor', 'Doble & Bignall', 'Dole (Guittard)',\n",
       "       'Dolfin (Belcolade)', 'Domori', 'Dormouse', \"Duffy's\", 'Dulcinea',\n",
       "       'Durand', 'Durci', 'East Van Roasters', 'Eau de Rose',\n",
       "       'Eclat (Felchlin)', 'Edelmond', 'El Ceibo', 'El Rey',\n",
       "       'Emerald Estate', \"Emily's\", 'ENNA',\n",
       "       'Enric Rovira (Claudio Corallo)', 'Erithaj (A. Morin)', 'Escazu',\n",
       "       \"Ethel's Artisan (Mars)\", 'Ethereal', 'Fearless (AMMA)',\n",
       "       'Feitoria Cacao', 'Felchlin', 'Finca', 'Forever Cacao',\n",
       "       'Forteza (Cortes)', 'Fossa', 'Franceschi', 'Frederic Blondeel',\n",
       "       'French Broad', 'Fresco', 'Friis Holm', 'Friis Holm (Bonnat)',\n",
       "       'Fruition', 'Garden Island', 'Georgia Ramon', 'Glennmade',\n",
       "       'Goodnow Farms', 'Grand Place', \"Green & Black's (ICAM)\",\n",
       "       'Green Bean to Bar', 'Grenada Chocolate Co.', 'Guido Castagna',\n",
       "       'Guittard', 'Habitual', 'Hachez', 'Hacienda El Castillo', 'Haigh',\n",
       "       'Harper Macaw', 'Heilemann',\n",
       "       'Heirloom Cacao Preservation (Brasstown)',\n",
       "       'Heirloom Cacao Preservation (Fruition)',\n",
       "       'Heirloom Cacao Preservation (Guittard)',\n",
       "       'Heirloom Cacao Preservation (Manoa)',\n",
       "       'Heirloom Cacao Preservation (Millcreek)',\n",
       "       'Heirloom Cacao Preservation (Mindo)',\n",
       "       'Heirloom Cacao Preservation (Zokoko)', 'hello cocoa', 'hexx',\n",
       "       'Hogarth', 'Hoja Verde (Tulicorp)', 'Holy Cacao', 'Honest',\n",
       "       'Hotel Chocolat', 'Hotel Chocolat (Coppeneur)', 'Hummingbird',\n",
       "       'Idilio (Felchlin)', 'Indah', 'Indaphoria', 'Indi', 'iQ Chocolate',\n",
       "       'Isidro', 'Izard', 'Jacque Torres', 'Jordis',\n",
       "       'Just Good Chocolate', 'Kah Kow', 'Kakao', 'Kallari (Ecuatoriana)',\n",
       "       'Kaoka (Cemoi)', 'Kerchner', \"Ki' Xocolatl\", 'Kiskadee', 'Kto',\n",
       "       \"K'ul\", 'Kyya', 'L.A. Burdick (Felchlin)',\n",
       "       'La Chocolaterie Nanairo', 'La Maison du Chocolat (Valrhona)',\n",
       "       'La Oroquidea', 'La Pepa de Oro', 'Laia aka Chat-Noir',\n",
       "       'Lajedo do Ouro', 'Lake Champlain (Callebaut)', \"L'Amourette\",\n",
       "       'Letterpress', 'Levy', 'Lilla', 'Lillie Belle', 'Lindt & Sprungli',\n",
       "       'Loiza', 'Lonohana', 'Love Bar', 'Luker',\n",
       "       'Machu Picchu Trading Co.', 'Madecasse (Cinagra)', 'Madre',\n",
       "       'Maglio', 'Majani', 'Malagasy (Chocolaterie Robert)', 'Malagos',\n",
       "       'Malie Kai (Guittard)', 'Malmo', 'Mana', 'Manifesto Cacao',\n",
       "       'Manoa', 'Manufaktura Czekolady', 'Map Chocolate', 'Marana',\n",
       "       \"Marigold's Finest\", 'Marou', 'Mars', 'Marsatta', 'Martin Mayer',\n",
       "       'Mast Brothers', 'Matale', 'Maverick', 'Mayacama', 'Meadowlands',\n",
       "       'Menakao (aka Cinagra)', 'Mesocacao', 'Metiisto', 'Metropolitan',\n",
       "       'Michel Cluizel', 'Middlebury', 'Millcreek Cacao Roasters',\n",
       "       'Mindo', 'Minimal', 'Mission', 'Mita', 'Moho', 'Molucca',\n",
       "       'Momotombo', 'Monarque', 'Monsieur Truffe', 'Montecristi',\n",
       "       'Muchomas (Mesocacao)', 'Mutari', 'Nahua', 'Naive', 'Na�ve',\n",
       "       'Nanea', 'Nathan Miller', 'Neuhaus (Callebaut)', 'Nibble',\n",
       "       'Night Owl', 'Noble Bean aka Jerjobo', \"Noir d' Ebine\",\n",
       "       'Nova Monda', 'Nuance', 'Nugali', 'Oakland Chocolate Co.', 'Obolo',\n",
       "       'Ocelot', 'Ocho', 'Ohiyo', 'Oialla by Bojessen (Malmo)',\n",
       "       'Olive and Sinclair', 'Olivia', 'Omanhene', 'Omnom', 'organicfair',\n",
       "       'Original Beans (Felchlin)', 'Original Hawaiin Chocolate Factory',\n",
       "       'Orquidea', 'Pacari', 'Palette de Bine', 'Pangea', 'Park 75',\n",
       "       'Parliament', 'Pascha', 'Patric', 'Paul Young', 'Peppalo',\n",
       "       'Pierre Marcolini', 'Pinellas', 'Pitch Dark',\n",
       "       'Pomm (aka Dead Dog)', 'Potomac', 'Pralus', 'Pump Street Bakery',\n",
       "       'Pura Delizia', 'Q Chocolate', 'Quetzalli (Wolter)', 'Raaka',\n",
       "       'Rain Republic', 'Rancho San Jacinto', 'Ranger', 'Raoul Boulanger',\n",
       "       'Raw Cocoa', 'Republica del Cacao (aka Confecta)', 'Ritual',\n",
       "       'Roasting Masters', 'Robert (aka Chocolaterie Robert)',\n",
       "       'Rococo (Grenada Chocolate Co.)', 'Rogue', 'Rozsavolgyi',\n",
       "       'S.A.I.D.', 'Sacred', 'Salgado', 'Santander (Compania Nacional)',\n",
       "       'Santome', 'Scharffen Berger', 'Seaforth', 'Shark Mountain',\n",
       "       \"Shark's\", 'Shattel', 'Shattell', 'Sibu', 'Sibu Sura',\n",
       "       'Silvio Bessone', 'Sirene', 'Sjolinds', 'Smooth Chocolator, The',\n",
       "       'Snake & Butterfly', 'Sol Cacao', 'Solkiki', 'Solomons Gold',\n",
       "       'Solstice', 'Soma', 'Somerville', 'Soul', 'Spagnvola', 'Spencer',\n",
       "       'Sprungli (Felchlin)', 'SRSLY', 'Starchild',\n",
       "       'Stella (aka Bernrain)', 'Stone Grindz', 'StRita Supreme',\n",
       "       'Sublime Origins', 'Summerbird', 'Suruca Chocolate',\n",
       "       'Svenska Kakaobolaget', 'Szanto Tibor', 'Tabal',\n",
       "       'Tablette (aka Vanillabeans)', 'Tan Ban Skrati', 'Taza', 'TCHO',\n",
       "       'Tejas', 'Terroir', 'The Barn', 'Theo', 'Theobroma',\n",
       "       'Timo A. Meyer', \"To'ak (Ecuatoriana)\", 'Tobago Estate (Pralus)',\n",
       "       'Tocoti', 'Treehouse', 'Tsara (Cinagra)', 'twenty-four blackbirds',\n",
       "       'Two Ravens', 'Un Dimanche A Paris', 'Undone', 'Upchurch', 'Urzi',\n",
       "       'Valrhona', 'Vanleer (Barry Callebaut)',\n",
       "       'Vao Vao (Chocolaterie Robert)', 'Vicuna', 'Videri',\n",
       "       'Vietcacao (A. Morin)', 'Vintage Plantations',\n",
       "       'Vintage Plantations (Tulicorp)', 'Violet Sky', 'Vivra',\n",
       "       'Wellington Chocolate Factory', 'Whittakers', \"Wilkie's Organic\",\n",
       "       \"Willie's Cacao\", 'Wm', 'Woodblock', 'Xocolat', 'Xocolla', \"Zak's\",\n",
       "       'Zart Pralinen', 'Zokoko', 'Zotter'], dtype=object)"
      ]
     },
     "execution_count": 11,
     "metadata": {},
     "output_type": "execute_result"
    }
   ],
   "source": [
    "dataset['company'].unique()"
   ]
  },
  {
   "cell_type": "code",
   "execution_count": 12,
   "metadata": {},
   "outputs": [
    {
     "data": {
      "text/plain": [
       "array(['Agua Grande', 'Kpime', 'Atsane', ..., 'Indianer, Raw',\n",
       "       'Kerala State', 'Brazil, Mitzi Blue'], dtype=object)"
      ]
     },
     "execution_count": 12,
     "metadata": {},
     "output_type": "execute_result"
    }
   ],
   "source": [
    "dataset['bar_name'].unique()"
   ]
  },
  {
   "cell_type": "code",
   "execution_count": 13,
   "metadata": {},
   "outputs": [
    {
     "data": {
      "text/plain": [
       "<matplotlib.axes._subplots.AxesSubplot at 0xa9cff31d0>"
      ]
     },
     "execution_count": 13,
     "metadata": {},
     "output_type": "execute_result"
    }
   ],
   "source": [
    "dataset['company_location'].value_counts().plot.bar()\n",
    "#we will use rare value technique to handle company_location column"
   ]
  },
  {
   "cell_type": "code",
   "execution_count": 14,
   "metadata": {},
   "outputs": [
    {
     "data": {
      "text/plain": [
       "<matplotlib.axes._subplots.AxesSubplot at 0xa9d5ce390>"
      ]
     },
     "execution_count": 14,
     "metadata": {},
     "output_type": "execute_result"
    },
    {
     "data": {
      "image/png": "[encoded data removed]",
      "text/plain": [
       "<Figure size 432x288 with 1 Axes>"
      ]
     },
     "metadata": {},
     "output_type": "display_data"
    }
   ],
   "source": [
    "dataset['rating'].plot.hist()"
   ]
  },
  {
   "cell_type": "code",
   "execution_count": 15,
   "metadata": {},
   "outputs": [
    {
     "data": {
      "text/plain": [
       "array([2016, 2015, 2014, 2013, 2012, 2011, 2009, 2010, 2017, 2008, 2007,\n",
       "       2006], dtype=int64)"
      ]
     },
     "execution_count": 15,
     "metadata": {},
     "output_type": "execute_result"
    }
   ],
   "source": [
    "dataset['review_date'].unique()"
   ]
  },
  {
   "cell_type": "code",
   "execution_count": 16,
   "metadata": {},
   "outputs": [
    {
     "data": {
      "text/plain": [
       "<matplotlib.axes._subplots.AxesSubplot at 0xa9d6c0908>"
      ]
     },
     "execution_count": 16,
     "metadata": {},
     "output_type": "execute_result"
    },
    {
     "data": {
      "image/png": "[encoded data removed]",
      "text/plain": [
       "<Figure size 432x288 with 1 Axes>"
      ]
     },
     "metadata": {},
     "output_type": "display_data"
    }
   ],
   "source": [
    "dataset['cocoa_percent'].hist()\n"
   ]
  },
  {
   "cell_type": "code",
   "execution_count": null,
   "metadata": {},
   "outputs": [],
   "source": []
  }
 ],
 "metadata": {
  "kernelspec": {
   "display_name": "Python 3",
   "language": "python",
   "name": "python3"
  },
  "language_info": {
   "codemirror_mode": {
    "name": "ipython",
    "version": 3
   },
   "file_extension": ".py",
   "mimetype": "text/x-python",
   "name": "python",
   "nbconvert_exporter": "python",
   "pygments_lexer": "ipython3",
   "version": "3.6.4"
  }
 },
 "nbformat": 4,
 "nbformat_minor": 2
}
